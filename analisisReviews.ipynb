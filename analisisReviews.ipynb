{
 "cells": [
  {
   "cell_type": "markdown",
   "id": "89ad5f30",
   "metadata": {},
   "source": [
    "# Data Dictionary\n",
    "\n",
    "satisfaction: The overall satisfaction level of the customer. It is a categorical variable with options such as \"satisfied\" or \"neutral or dissatisfied.\"\n",
    "\n",
    "Gender: The gender of the customer.\n",
    "\n",
    "Customer Type: Whether the customer is a \"loyal customer\" or a \"disloyal customer.\"\n",
    "\n",
    "Age: The age of the customer.\n",
    "\n",
    "Type of Travel: The type of travel, such as \"Personal Travel\" or \"Business travel.\"\n",
    "\n",
    "Class: The class of travel, such as \"Eco\" or \"Business.\"\n",
    "\n",
    "Flight Distance: The distance of the flight.\n",
    "\n",
    "Seat comfort: Customer rating of seat comfort.\n",
    "\n",
    "Departure/Arrival time convenient: Customer rating of convenience of departure/arrival times.\n",
    "\n",
    "Food and drink: Customer rating of food and drink quality.\n",
    "\n",
    "Gate location: Customer rating of gate location.\n",
    "\n",
    "Inflight wifi service: Customer rating of inflight Wi-Fi service.\n",
    "\n",
    "Inflight entertainment: Customer rating of inflight entertainment options.\n",
    "\n",
    "Online support: Customer rating of online customer support.\n",
    "\n",
    "Ease of Online booking: Customer rating of ease of online booking.\n",
    "\n",
    "On-board service: Customer rating of on-board service.\n",
    "\n",
    "Leg room service: Customer rating of leg room service.\n",
    "\n",
    "Baggage handling: Customer rating of baggage handling.\n",
    "\n",
    "Checkin service: Customer rating of check-in service.\n",
    "\n",
    "Cleanliness: Customer rating of cabin cleanliness.\n",
    "\n",
    "Online boarding: Customer rating of online boarding process.\n",
    "\n",
    "Departure Delay in Minutes: The delay in minutes for departure.\n",
    "\n",
    "Arrival Delay in Minutes: The delay in minutes for arrival."
   ]
  },
  {
   "cell_type": "markdown",
   "id": "cc2b7290",
   "metadata": {},
   "source": [
    "### Melihat Data\n",
    "1. Apa permasalahan yang infin diselesaikan?\n",
    "2. Apa pertanyaan yang ingin dijawab?\n",
    "3. Buat rencana ttg proses analisa dan proses penemuan insight\n",
    "\n",
    "### EDA\n",
    "1. Cari EDA utk mendapatkan insight awal\n",
    "2. Buat hipotesis dari EDA awal\n",
    "3. membuat model visualisasi dengan: mencari tren dan pola model visualisasi\n",
    "4. membandingkan hipotesis awal, cek ketidakcocokan hipotesis awal dan kesimpulan"
   ]
  },
  {
   "cell_type": "markdown",
   "id": "2db77912",
   "metadata": {},
   "source": [
    "# Import Libraries\n"
   ]
  },
  {
   "cell_type": "code",
   "execution_count": 1,
   "id": "5bcea6ce",
   "metadata": {},
   "outputs": [
    {
     "data": {
      "text/html": [
       "<div>\n",
       "<style scoped>\n",
       "    .dataframe tbody tr th:only-of-type {\n",
       "        vertical-align: middle;\n",
       "    }\n",
       "\n",
       "    .dataframe tbody tr th {\n",
       "        vertical-align: top;\n",
       "    }\n",
       "\n",
       "    .dataframe thead th {\n",
       "        text-align: right;\n",
       "    }\n",
       "</style>\n",
       "<table border=\"1\" class=\"dataframe\">\n",
       "  <thead>\n",
       "    <tr style=\"text-align: right;\">\n",
       "      <th></th>\n",
       "      <th>status</th>\n",
       "      <th>aircraft</th>\n",
       "      <th>travel_type</th>\n",
       "      <th>travel_class</th>\n",
       "      <th>route</th>\n",
       "      <th>date</th>\n",
       "      <th>seating_comfort</th>\n",
       "      <th>staff_service</th>\n",
       "      <th>food_quality</th>\n",
       "      <th>entertainment</th>\n",
       "      <th>wifi</th>\n",
       "      <th>ground_service</th>\n",
       "      <th>value_for_money</th>\n",
       "      <th>recommended</th>\n",
       "      <th>overall_rating</th>\n",
       "      <th>review</th>\n",
       "    </tr>\n",
       "  </thead>\n",
       "  <tbody>\n",
       "    <tr>\n",
       "      <th>0</th>\n",
       "      <td>✅ Trip Verified</td>\n",
       "      <td>A320</td>\n",
       "      <td>Solo Leisure</td>\n",
       "      <td>Business Class</td>\n",
       "      <td>London to Lisbon</td>\n",
       "      <td>November 2022</td>\n",
       "      <td>3.0</td>\n",
       "      <td>4.0</td>\n",
       "      <td>4.0</td>\n",
       "      <td>NaN</td>\n",
       "      <td>NaN</td>\n",
       "      <td>3.0</td>\n",
       "      <td>3</td>\n",
       "      <td>yes</td>\n",
       "      <td>7.0</td>\n",
       "      <td>I virtually gave up on British Airways about...</td>\n",
       "    </tr>\n",
       "    <tr>\n",
       "      <th>1</th>\n",
       "      <td>✅ Trip Verified</td>\n",
       "      <td>Boeing 787 / A320</td>\n",
       "      <td>Solo Leisure</td>\n",
       "      <td>Economy Class</td>\n",
       "      <td>Montreal to Edinburgh via London Heathrow</td>\n",
       "      <td>January 2022</td>\n",
       "      <td>4.0</td>\n",
       "      <td>4.0</td>\n",
       "      <td>4.0</td>\n",
       "      <td>4.0</td>\n",
       "      <td>NaN</td>\n",
       "      <td>4.0</td>\n",
       "      <td>4</td>\n",
       "      <td>yes</td>\n",
       "      <td>7.0</td>\n",
       "      <td>I was pleasantly surprised that the airline ...</td>\n",
       "    </tr>\n",
       "    <tr>\n",
       "      <th>2</th>\n",
       "      <td>✅ Trip Verified</td>\n",
       "      <td>NaN</td>\n",
       "      <td>Solo Leisure</td>\n",
       "      <td>Economy Class</td>\n",
       "      <td>Miami to Budapest via London</td>\n",
       "      <td>November 2022</td>\n",
       "      <td>2.0</td>\n",
       "      <td>3.0</td>\n",
       "      <td>3.0</td>\n",
       "      <td>4.0</td>\n",
       "      <td>NaN</td>\n",
       "      <td>1.0</td>\n",
       "      <td>1</td>\n",
       "      <td>no</td>\n",
       "      <td>1.0</td>\n",
       "      <td>British Airways is late, their website is at...</td>\n",
       "    </tr>\n",
       "    <tr>\n",
       "      <th>3</th>\n",
       "      <td>✅ Trip Verified</td>\n",
       "      <td>NaN</td>\n",
       "      <td>Solo Leisure</td>\n",
       "      <td>Premium Economy</td>\n",
       "      <td>Amman Jordan to London UK (Heathrow)</td>\n",
       "      <td>November 2022</td>\n",
       "      <td>3.0</td>\n",
       "      <td>2.0</td>\n",
       "      <td>1.0</td>\n",
       "      <td>NaN</td>\n",
       "      <td>NaN</td>\n",
       "      <td>4.0</td>\n",
       "      <td>2</td>\n",
       "      <td>no</td>\n",
       "      <td>4.0</td>\n",
       "      <td>Flew from Amman to London on Nov. 14 2022. No...</td>\n",
       "    </tr>\n",
       "    <tr>\n",
       "      <th>4</th>\n",
       "      <td>✅ Trip Verified</td>\n",
       "      <td>NaN</td>\n",
       "      <td>Solo Leisure</td>\n",
       "      <td>Economy Class</td>\n",
       "      <td>Dusseldorf to London via Los Angeles</td>\n",
       "      <td>August 2022</td>\n",
       "      <td>1.0</td>\n",
       "      <td>1.0</td>\n",
       "      <td>1.0</td>\n",
       "      <td>1.0</td>\n",
       "      <td>1.0</td>\n",
       "      <td>1.0</td>\n",
       "      <td>1</td>\n",
       "      <td>no</td>\n",
       "      <td>1.0</td>\n",
       "      <td>This is the worst experience I have ever had ...</td>\n",
       "    </tr>\n",
       "  </tbody>\n",
       "</table>\n",
       "</div>"
      ],
      "text/plain": [
       "             status           aircraft   travel_type     travel_class  \\\n",
       "0  ✅ Trip Verified                A320  Solo Leisure   Business Class   \n",
       "1  ✅ Trip Verified   Boeing 787 / A320  Solo Leisure    Economy Class   \n",
       "2  ✅ Trip Verified                 NaN  Solo Leisure    Economy Class   \n",
       "3  ✅ Trip Verified                 NaN  Solo Leisure  Premium Economy   \n",
       "4  ✅ Trip Verified                 NaN  Solo Leisure    Economy Class   \n",
       "\n",
       "                                       route           date  seating_comfort  \\\n",
       "0                           London to Lisbon  November 2022              3.0   \n",
       "1  Montreal to Edinburgh via London Heathrow   January 2022              4.0   \n",
       "2               Miami to Budapest via London  November 2022              2.0   \n",
       "3       Amman Jordan to London UK (Heathrow)  November 2022              3.0   \n",
       "4       Dusseldorf to London via Los Angeles    August 2022              1.0   \n",
       "\n",
       "   staff_service  food_quality  entertainment  wifi  ground_service  \\\n",
       "0            4.0           4.0            NaN   NaN             3.0   \n",
       "1            4.0           4.0            4.0   NaN             4.0   \n",
       "2            3.0           3.0            4.0   NaN             1.0   \n",
       "3            2.0           1.0            NaN   NaN             4.0   \n",
       "4            1.0           1.0            1.0   1.0             1.0   \n",
       "\n",
       "   value_for_money recommended  overall_rating  \\\n",
       "0                3         yes             7.0   \n",
       "1                4         yes             7.0   \n",
       "2                1          no             1.0   \n",
       "3                2          no             4.0   \n",
       "4                1          no             1.0   \n",
       "\n",
       "                                              review  \n",
       "0    I virtually gave up on British Airways about...  \n",
       "1    I was pleasantly surprised that the airline ...  \n",
       "2    British Airways is late, their website is at...  \n",
       "3   Flew from Amman to London on Nov. 14 2022. No...  \n",
       "4   This is the worst experience I have ever had ...  "
      ]
     },
     "execution_count": 1,
     "metadata": {},
     "output_type": "execute_result"
    }
   ],
   "source": [
    "import numpy as np\n",
    "import pandas as pd\n",
    "import seaborn as sns\n",
    "import matplotlib.pyplot as plt\n",
    "\n",
    "df = pd.read_csv(\"C:/Users/user/OneDrive/Documents/British Airways/data/British_Airways.csv\")\n",
    "df.head(5)"
   ]
  },
  {
   "cell_type": "markdown",
   "id": "a6dae8ae",
   "metadata": {},
   "source": [
    "# Data Cleaning"
   ]
  },
  {
   "cell_type": "code",
   "execution_count": 2,
   "id": "1c7944a0",
   "metadata": {},
   "outputs": [
    {
     "name": "stdout",
     "output_type": "stream",
     "text": [
      "<class 'pandas.core.frame.DataFrame'>\n",
      "RangeIndex: 3424 entries, 0 to 3423\n",
      "Data columns (total 16 columns):\n",
      " #   Column           Non-Null Count  Dtype  \n",
      "---  ------           --------------  -----  \n",
      " 0   status           1901 non-null   object \n",
      " 1   aircraft         1787 non-null   object \n",
      " 2   travel_type      2654 non-null   object \n",
      " 3   travel_class     3422 non-null   object \n",
      " 4   route            2650 non-null   object \n",
      " 5   date             2646 non-null   object \n",
      " 6   seating_comfort  3326 non-null   float64\n",
      " 7   staff_service    3319 non-null   float64\n",
      " 8   food_quality     3094 non-null   float64\n",
      " 9   entertainment    2413 non-null   float64\n",
      " 10  wifi             505 non-null    float64\n",
      " 11  ground_service   2588 non-null   float64\n",
      " 12  value_for_money  3424 non-null   int64  \n",
      " 13  recommended      3424 non-null   object \n",
      " 14  overall_rating   3418 non-null   float64\n",
      " 15  review           3424 non-null   object \n",
      "dtypes: float64(7), int64(1), object(8)\n",
      "memory usage: 428.1+ KB\n"
     ]
    }
   ],
   "source": [
    "df.info()"
   ]
  },
  {
   "cell_type": "code",
   "execution_count": 3,
   "id": "1f017250",
   "metadata": {},
   "outputs": [
    {
     "name": "stdout",
     "output_type": "stream",
     "text": [
      "Index(['status', 'aircraft', 'travel_type', 'travel_class', 'route', 'date',\n",
      "       'seating_comfort', 'staff_service', 'food_quality', 'entertainment',\n",
      "       'wifi', 'ground_service', 'value_for_money', 'recommended',\n",
      "       'overall_rating', 'review'],\n",
      "      dtype='object')\n"
     ]
    }
   ],
   "source": [
    "print(df.columns)\n"
   ]
  },
  {
   "cell_type": "code",
   "execution_count": 4,
   "id": "b2c417d1",
   "metadata": {},
   "outputs": [
    {
     "data": {
      "text/plain": [
       "status             1523\n",
       "aircraft           1637\n",
       "travel_type         770\n",
       "travel_class          2\n",
       "route               774\n",
       "date                778\n",
       "seating_comfort      98\n",
       "staff_service       105\n",
       "food_quality        330\n",
       "entertainment      1011\n",
       "wifi               2919\n",
       "ground_service      836\n",
       "value_for_money       0\n",
       "recommended           0\n",
       "overall_rating        6\n",
       "review                0\n",
       "dtype: int64"
      ]
     },
     "execution_count": 4,
     "metadata": {},
     "output_type": "execute_result"
    }
   ],
   "source": [
    "df.isnull().sum()"
   ]
  },
  {
   "cell_type": "code",
   "execution_count": 5,
   "id": "300f2d95",
   "metadata": {},
   "outputs": [
    {
     "data": {
      "text/html": [
       "<div>\n",
       "<style scoped>\n",
       "    .dataframe tbody tr th:only-of-type {\n",
       "        vertical-align: middle;\n",
       "    }\n",
       "\n",
       "    .dataframe tbody tr th {\n",
       "        vertical-align: top;\n",
       "    }\n",
       "\n",
       "    .dataframe thead th {\n",
       "        text-align: right;\n",
       "    }\n",
       "</style>\n",
       "<table border=\"1\" class=\"dataframe\">\n",
       "  <thead>\n",
       "    <tr style=\"text-align: right;\">\n",
       "      <th></th>\n",
       "      <th>travel_class</th>\n",
       "      <th>seating_comfort</th>\n",
       "      <th>staff_service</th>\n",
       "      <th>food_quality</th>\n",
       "      <th>value_for_money</th>\n",
       "      <th>recommended</th>\n",
       "      <th>overall_rating</th>\n",
       "      <th>review</th>\n",
       "    </tr>\n",
       "  </thead>\n",
       "  <tbody>\n",
       "    <tr>\n",
       "      <th>0</th>\n",
       "      <td>Business Class</td>\n",
       "      <td>3.0</td>\n",
       "      <td>4.0</td>\n",
       "      <td>4.0</td>\n",
       "      <td>3</td>\n",
       "      <td>yes</td>\n",
       "      <td>7.0</td>\n",
       "      <td>I virtually gave up on British Airways about...</td>\n",
       "    </tr>\n",
       "    <tr>\n",
       "      <th>1</th>\n",
       "      <td>Economy Class</td>\n",
       "      <td>4.0</td>\n",
       "      <td>4.0</td>\n",
       "      <td>4.0</td>\n",
       "      <td>4</td>\n",
       "      <td>yes</td>\n",
       "      <td>7.0</td>\n",
       "      <td>I was pleasantly surprised that the airline ...</td>\n",
       "    </tr>\n",
       "    <tr>\n",
       "      <th>2</th>\n",
       "      <td>Economy Class</td>\n",
       "      <td>2.0</td>\n",
       "      <td>3.0</td>\n",
       "      <td>3.0</td>\n",
       "      <td>1</td>\n",
       "      <td>no</td>\n",
       "      <td>1.0</td>\n",
       "      <td>British Airways is late, their website is at...</td>\n",
       "    </tr>\n",
       "    <tr>\n",
       "      <th>3</th>\n",
       "      <td>Premium Economy</td>\n",
       "      <td>3.0</td>\n",
       "      <td>2.0</td>\n",
       "      <td>1.0</td>\n",
       "      <td>2</td>\n",
       "      <td>no</td>\n",
       "      <td>4.0</td>\n",
       "      <td>Flew from Amman to London on Nov. 14 2022. No...</td>\n",
       "    </tr>\n",
       "    <tr>\n",
       "      <th>4</th>\n",
       "      <td>Economy Class</td>\n",
       "      <td>1.0</td>\n",
       "      <td>1.0</td>\n",
       "      <td>1.0</td>\n",
       "      <td>1</td>\n",
       "      <td>no</td>\n",
       "      <td>1.0</td>\n",
       "      <td>This is the worst experience I have ever had ...</td>\n",
       "    </tr>\n",
       "  </tbody>\n",
       "</table>\n",
       "</div>"
      ],
      "text/plain": [
       "      travel_class  seating_comfort  staff_service  food_quality  \\\n",
       "0   Business Class              3.0            4.0           4.0   \n",
       "1    Economy Class              4.0            4.0           4.0   \n",
       "2    Economy Class              2.0            3.0           3.0   \n",
       "3  Premium Economy              3.0            2.0           1.0   \n",
       "4    Economy Class              1.0            1.0           1.0   \n",
       "\n",
       "   value_for_money recommended  overall_rating  \\\n",
       "0                3         yes             7.0   \n",
       "1                4         yes             7.0   \n",
       "2                1          no             1.0   \n",
       "3                2          no             4.0   \n",
       "4                1          no             1.0   \n",
       "\n",
       "                                              review  \n",
       "0    I virtually gave up on British Airways about...  \n",
       "1    I was pleasantly surprised that the airline ...  \n",
       "2    British Airways is late, their website is at...  \n",
       "3   Flew from Amman to London on Nov. 14 2022. No...  \n",
       "4   This is the worst experience I have ever had ...  "
      ]
     },
     "execution_count": 5,
     "metadata": {},
     "output_type": "execute_result"
    }
   ],
   "source": [
    "\n",
    "data= df.drop(['wifi','aircraft','status','ground_service',\n",
    "              'travel_type','route','date','entertainment'],axis=1)\n",
    "data.head()\n"
   ]
  },
  {
   "cell_type": "code",
   "execution_count": 6,
   "id": "de9f7c37",
   "metadata": {},
   "outputs": [
    {
     "name": "stdout",
     "output_type": "stream",
     "text": [
      "<class 'pandas.core.frame.DataFrame'>\n",
      "RangeIndex: 3424 entries, 0 to 3423\n",
      "Data columns (total 8 columns):\n",
      " #   Column           Non-Null Count  Dtype  \n",
      "---  ------           --------------  -----  \n",
      " 0   travel_class     3422 non-null   object \n",
      " 1   seating_comfort  3326 non-null   float64\n",
      " 2   staff_service    3319 non-null   float64\n",
      " 3   food_quality     3094 non-null   float64\n",
      " 4   value_for_money  3424 non-null   int64  \n",
      " 5   recommended      3424 non-null   object \n",
      " 6   overall_rating   3418 non-null   float64\n",
      " 7   review           3424 non-null   object \n",
      "dtypes: float64(4), int64(1), object(3)\n",
      "memory usage: 214.1+ KB\n"
     ]
    },
    {
     "data": {
      "text/plain": [
       "travel_class         2\n",
       "seating_comfort     98\n",
       "staff_service      105\n",
       "food_quality       330\n",
       "value_for_money      0\n",
       "recommended          0\n",
       "overall_rating       6\n",
       "review               0\n",
       "dtype: int64"
      ]
     },
     "execution_count": 6,
     "metadata": {},
     "output_type": "execute_result"
    }
   ],
   "source": [
    "data.info()\n",
    "data.isnull().sum()"
   ]
  },
  {
   "cell_type": "markdown",
   "id": "47ccfeb1",
   "metadata": {},
   "source": [
    "# Transform Data"
   ]
  },
  {
   "cell_type": "code",
   "execution_count": 7,
   "id": "daad7f46",
   "metadata": {},
   "outputs": [],
   "source": [
    "from sklearn.impute import SimpleImputer"
   ]
  },
  {
   "cell_type": "code",
   "execution_count": 8,
   "id": "7df68029",
   "metadata": {},
   "outputs": [],
   "source": [
    "SI= SimpleImputer(strategy='most_frequent')"
   ]
  },
  {
   "cell_type": "code",
   "execution_count": 9,
   "id": "e84105e6",
   "metadata": {},
   "outputs": [],
   "source": [
    "temp = SI.fit_transform(data)"
   ]
  },
  {
   "cell_type": "code",
   "execution_count": 10,
   "id": "2cc7d292",
   "metadata": {},
   "outputs": [],
   "source": [
    "data= pd.DataFrame(temp,columns=data.columns)"
   ]
  },
  {
   "cell_type": "code",
   "execution_count": 11,
   "id": "2dccc09d",
   "metadata": {},
   "outputs": [
    {
     "name": "stdout",
     "output_type": "stream",
     "text": [
      "<class 'pandas.core.frame.DataFrame'>\n",
      "RangeIndex: 3424 entries, 0 to 3423\n",
      "Data columns (total 8 columns):\n",
      " #   Column           Non-Null Count  Dtype \n",
      "---  ------           --------------  ----- \n",
      " 0   travel_class     3424 non-null   object\n",
      " 1   seating_comfort  3424 non-null   object\n",
      " 2   staff_service    3424 non-null   object\n",
      " 3   food_quality     3424 non-null   object\n",
      " 4   value_for_money  3424 non-null   object\n",
      " 5   recommended      3424 non-null   object\n",
      " 6   overall_rating   3424 non-null   object\n",
      " 7   review           3424 non-null   object\n",
      "dtypes: object(8)\n",
      "memory usage: 214.1+ KB\n"
     ]
    }
   ],
   "source": [
    "data.info()"
   ]
  },
  {
   "cell_type": "code",
   "execution_count": 12,
   "id": "53c6b74c",
   "metadata": {},
   "outputs": [],
   "source": [
    "data['seating_comfort']=data['seating_comfort'].astype('int')\n",
    "data['staff_service']=data['staff_service'].astype('int')\n",
    "data['food_quality']=data['food_quality'].astype('int')\n",
    "data['value_for_money']=data['value_for_money'].astype('int')\n",
    "data['overall_rating']=data['overall_rating'].astype('int')"
   ]
  },
  {
   "cell_type": "code",
   "execution_count": 13,
   "id": "1ecd0c71",
   "metadata": {},
   "outputs": [
    {
     "data": {
      "text/html": [
       "<div>\n",
       "<style scoped>\n",
       "    .dataframe tbody tr th:only-of-type {\n",
       "        vertical-align: middle;\n",
       "    }\n",
       "\n",
       "    .dataframe tbody tr th {\n",
       "        vertical-align: top;\n",
       "    }\n",
       "\n",
       "    .dataframe thead th {\n",
       "        text-align: right;\n",
       "    }\n",
       "</style>\n",
       "<table border=\"1\" class=\"dataframe\">\n",
       "  <thead>\n",
       "    <tr style=\"text-align: right;\">\n",
       "      <th></th>\n",
       "      <th>seating_comfort</th>\n",
       "      <th>staff_service</th>\n",
       "      <th>food_quality</th>\n",
       "      <th>value_for_money</th>\n",
       "      <th>overall_rating</th>\n",
       "    </tr>\n",
       "  </thead>\n",
       "  <tbody>\n",
       "    <tr>\n",
       "      <th>count</th>\n",
       "      <td>3424.000000</td>\n",
       "      <td>3424.000000</td>\n",
       "      <td>3424.000000</td>\n",
       "      <td>3424.000000</td>\n",
       "      <td>3424.000000</td>\n",
       "    </tr>\n",
       "    <tr>\n",
       "      <th>mean</th>\n",
       "      <td>2.907126</td>\n",
       "      <td>3.334112</td>\n",
       "      <td>2.573014</td>\n",
       "      <td>2.742407</td>\n",
       "      <td>4.847255</td>\n",
       "    </tr>\n",
       "    <tr>\n",
       "      <th>std</th>\n",
       "      <td>1.336958</td>\n",
       "      <td>1.489252</td>\n",
       "      <td>1.463525</td>\n",
       "      <td>1.465825</td>\n",
       "      <td>3.159279</td>\n",
       "    </tr>\n",
       "    <tr>\n",
       "      <th>min</th>\n",
       "      <td>1.000000</td>\n",
       "      <td>1.000000</td>\n",
       "      <td>0.000000</td>\n",
       "      <td>0.000000</td>\n",
       "      <td>1.000000</td>\n",
       "    </tr>\n",
       "    <tr>\n",
       "      <th>25%</th>\n",
       "      <td>2.000000</td>\n",
       "      <td>2.000000</td>\n",
       "      <td>1.000000</td>\n",
       "      <td>1.000000</td>\n",
       "      <td>2.000000</td>\n",
       "    </tr>\n",
       "    <tr>\n",
       "      <th>50%</th>\n",
       "      <td>3.000000</td>\n",
       "      <td>4.000000</td>\n",
       "      <td>2.000000</td>\n",
       "      <td>3.000000</td>\n",
       "      <td>4.000000</td>\n",
       "    </tr>\n",
       "    <tr>\n",
       "      <th>75%</th>\n",
       "      <td>4.000000</td>\n",
       "      <td>5.000000</td>\n",
       "      <td>4.000000</td>\n",
       "      <td>4.000000</td>\n",
       "      <td>8.000000</td>\n",
       "    </tr>\n",
       "    <tr>\n",
       "      <th>max</th>\n",
       "      <td>5.000000</td>\n",
       "      <td>5.000000</td>\n",
       "      <td>5.000000</td>\n",
       "      <td>5.000000</td>\n",
       "      <td>10.000000</td>\n",
       "    </tr>\n",
       "  </tbody>\n",
       "</table>\n",
       "</div>"
      ],
      "text/plain": [
       "       seating_comfort  staff_service  food_quality  value_for_money  \\\n",
       "count      3424.000000    3424.000000   3424.000000      3424.000000   \n",
       "mean          2.907126       3.334112      2.573014         2.742407   \n",
       "std           1.336958       1.489252      1.463525         1.465825   \n",
       "min           1.000000       1.000000      0.000000         0.000000   \n",
       "25%           2.000000       2.000000      1.000000         1.000000   \n",
       "50%           3.000000       4.000000      2.000000         3.000000   \n",
       "75%           4.000000       5.000000      4.000000         4.000000   \n",
       "max           5.000000       5.000000      5.000000         5.000000   \n",
       "\n",
       "       overall_rating  \n",
       "count     3424.000000  \n",
       "mean         4.847255  \n",
       "std          3.159279  \n",
       "min          1.000000  \n",
       "25%          2.000000  \n",
       "50%          4.000000  \n",
       "75%          8.000000  \n",
       "max         10.000000  "
      ]
     },
     "execution_count": 13,
     "metadata": {},
     "output_type": "execute_result"
    }
   ],
   "source": [
    "data.describe()"
   ]
  },
  {
   "cell_type": "markdown",
   "id": "e31ec2e8",
   "metadata": {},
   "source": [
    "# Data Analyze"
   ]
  },
  {
   "cell_type": "code",
   "execution_count": 14,
   "id": "9900de43",
   "metadata": {},
   "outputs": [],
   "source": [
    "data1 = data['recommended'].value_counts()"
   ]
  },
  {
   "cell_type": "markdown",
   "id": "3eb7d5ef",
   "metadata": {},
   "source": [
    "### Bar graph on ratings"
   ]
  },
  {
   "cell_type": "code",
   "execution_count": 15,
   "id": "ec538a5f",
   "metadata": {},
   "outputs": [
    {
     "data": {
      "image/png": "[encoded data removed]",
      "text/plain": [
       "<Figure size 640x480 with 1 Axes>"
      ]
     },
     "metadata": {},
     "output_type": "display_data"
    }
   ],
   "source": [
    "graph1=plt.bar(data1.index,data1.values,color=['Red','Blue'],edgecolor='black')\n",
    "for bar in graph1:\n",
    "    height=bar.get_height()\n",
    "    plt.annotate(f'{round(height*100/3424)} %',(bar.get_x()+bar.get_width()/2,height/2),ha='center',fontsize=15)\n",
    "plt.title('Customer Recommendation')\n",
    "plt.ylabel('Votes')\n",
    "plt.savefig('customer_recommendation.jpg')\n",
    "plt.show()"
   ]
  },
  {
   "cell_type": "markdown",
   "id": "b2e030bc",
   "metadata": {},
   "source": [
    "### Plot graph: Overall rating"
   ]
  },
  {
   "cell_type": "code",
   "execution_count": 16,
   "id": "6d9f929e",
   "metadata": {},
   "outputs": [
    {
     "data": {
      "image/png": "[encoded data removed]",
      "text/plain": [
       "<Figure size 640x480 with 1 Axes>"
      ]
     },
     "metadata": {},
     "output_type": "display_data"
    }
   ],
   "source": [
    "cols=['seating_comfort','staff_service','food_quality','value_for_money']\n",
    "\n",
    "y=[data[i].mean() for i in cols]\n",
    "graph2=plt.bar(cols,y,color=['Green','Yellow','Blue','cyan'],edgecolor='black')\n",
    "for bar in graph2:\n",
    "    height= bar.get_height()\n",
    "    plt.annotate(round(height,2),(bar.get_x()+bar.get_width()/2,height/2),ha='center',color='black',fontsize=15)\n",
    "plt.ylim(0,5)\n",
    "plt.title('Quality Ratings')\n",
    "plt.ylabel('Average Rating')\n",
    "plt.savefig('Quality_Ratings.jpg')\n",
    "plt.show()"
   ]
  },
  {
   "cell_type": "markdown",
   "id": "f93a428a",
   "metadata": {},
   "source": [
    "### Pie graph: overall rating /10\n"
   ]
  },
  {
   "cell_type": "code",
   "execution_count": 17,
   "id": "69955544",
   "metadata": {},
   "outputs": [
    {
     "data": {
      "image/png": "[encoded data removed]",
      "text/plain": [
       "<Figure size 1000x1000 with 1 Axes>"
      ]
     },
     "metadata": {},
     "output_type": "display_data"
    }
   ],
   "source": [
    "data2=data['overall_rating'].value_counts()\n",
    "fig=plt.figure()\n",
    "fig.set_figwidth(10)\n",
    "fig.set_figheight(10)\n",
    "plt.pie(data2.values,labels=data2.index,autopct='%1.1i%%',explode=[0.1,0,0,0,0,0,0,0,0,0],textprops={'fontsize':15})\n",
    "plt.title('Overall Rating out of 10',fontsize=25)\n",
    "plt.savefig('Overall_Rating.jpg')\n",
    "plt.show()"
   ]
  },
  {
   "cell_type": "markdown",
   "id": "35339ef7",
   "metadata": {},
   "source": [
    "## class-wise analysis"
   ]
  },
  {
   "cell_type": "code",
   "execution_count": 18,
   "id": "ad2b8f41",
   "metadata": {},
   "outputs": [],
   "source": [
    "class_wise=data.groupby('travel_class').mean()"
   ]
  },
  {
   "cell_type": "code",
   "execution_count": 19,
   "id": "75bd7959",
   "metadata": {},
   "outputs": [],
   "source": [
    "class_wise=class_wise.reindex(['Economy Class','Premium Economy','Business Class','First Class']).drop(['overall_rating'],axis='columns')"
   ]
  },
  {
   "cell_type": "code",
   "execution_count": 20,
   "id": "7274e46e",
   "metadata": {},
   "outputs": [
    {
     "data": {
      "text/html": [
       "<div>\n",
       "<style scoped>\n",
       "    .dataframe tbody tr th:only-of-type {\n",
       "        vertical-align: middle;\n",
       "    }\n",
       "\n",
       "    .dataframe tbody tr th {\n",
       "        vertical-align: top;\n",
       "    }\n",
       "\n",
       "    .dataframe thead th {\n",
       "        text-align: right;\n",
       "    }\n",
       "</style>\n",
       "<table border=\"1\" class=\"dataframe\">\n",
       "  <thead>\n",
       "    <tr style=\"text-align: right;\">\n",
       "      <th></th>\n",
       "      <th>seating_comfort</th>\n",
       "      <th>staff_service</th>\n",
       "      <th>food_quality</th>\n",
       "      <th>value_for_money</th>\n",
       "    </tr>\n",
       "    <tr>\n",
       "      <th>travel_class</th>\n",
       "      <th></th>\n",
       "      <th></th>\n",
       "      <th></th>\n",
       "      <th></th>\n",
       "    </tr>\n",
       "  </thead>\n",
       "  <tbody>\n",
       "    <tr>\n",
       "      <th>Economy Class</th>\n",
       "      <td>2.777715</td>\n",
       "      <td>3.181353</td>\n",
       "      <td>2.288232</td>\n",
       "      <td>2.658897</td>\n",
       "    </tr>\n",
       "    <tr>\n",
       "      <th>Premium Economy</th>\n",
       "      <td>3.047198</td>\n",
       "      <td>3.171091</td>\n",
       "      <td>2.628319</td>\n",
       "      <td>2.746313</td>\n",
       "    </tr>\n",
       "    <tr>\n",
       "      <th>Business Class</th>\n",
       "      <td>2.920108</td>\n",
       "      <td>3.511670</td>\n",
       "      <td>2.888689</td>\n",
       "      <td>2.812388</td>\n",
       "    </tr>\n",
       "    <tr>\n",
       "      <th>First Class</th>\n",
       "      <td>3.688679</td>\n",
       "      <td>3.929245</td>\n",
       "      <td>3.188679</td>\n",
       "      <td>3.061321</td>\n",
       "    </tr>\n",
       "  </tbody>\n",
       "</table>\n",
       "</div>"
      ],
      "text/plain": [
       "                 seating_comfort  staff_service  food_quality  value_for_money\n",
       "travel_class                                                                  \n",
       "Economy Class           2.777715       3.181353      2.288232         2.658897\n",
       "Premium Economy         3.047198       3.171091      2.628319         2.746313\n",
       "Business Class          2.920108       3.511670      2.888689         2.812388\n",
       "First Class             3.688679       3.929245      3.188679         3.061321"
      ]
     },
     "execution_count": 20,
     "metadata": {},
     "output_type": "execute_result"
    }
   ],
   "source": [
    "class_wise"
   ]
  },
  {
   "cell_type": "markdown",
   "id": "8d9ad490",
   "metadata": {},
   "source": [
    "# Sentiment Analysis"
   ]
  },
  {
   "cell_type": "code",
   "execution_count": 21,
   "id": "cc18ab83",
   "metadata": {},
   "outputs": [],
   "source": [
    "reviews= data[['review']]"
   ]
  },
  {
   "cell_type": "code",
   "execution_count": 22,
   "id": "ad537ece",
   "metadata": {},
   "outputs": [],
   "source": [
    "file1=open(\"C:/Users/user/OneDrive/Documents/British Airways/data/negative-words.txt\",'r',encoding='latin-1')"
   ]
  },
  {
   "cell_type": "code",
   "execution_count": 23,
   "id": "89d186eb",
   "metadata": {},
   "outputs": [],
   "source": [
    "negative_words=file1.read().split('\\n')\n",
    "file1.close()"
   ]
  },
  {
   "cell_type": "code",
   "execution_count": 24,
   "id": "879b473f",
   "metadata": {},
   "outputs": [],
   "source": [
    "file2=open(\"C:/Users/user/OneDrive/Documents/British Airways/data/positive-words.txt\",'r',encoding='latin-1')"
   ]
  },
  {
   "cell_type": "code",
   "execution_count": 25,
   "id": "c97e0b4b",
   "metadata": {},
   "outputs": [],
   "source": [
    "positive_words=file2.read().split('\\n')\n",
    "file2.close()"
   ]
  },
  {
   "cell_type": "code",
   "execution_count": 26,
   "id": "c948e7ca",
   "metadata": {},
   "outputs": [],
   "source": [
    "import nltk\n",
    "from nltk.corpus import stopwords\n",
    "from nltk.tokenize import word_tokenize\n",
    "from nltk.stem import WordNetLemmatizer\n"
   ]
  },
  {
   "cell_type": "code",
   "execution_count": 27,
   "id": "46116df4",
   "metadata": {},
   "outputs": [],
   "source": [
    "stop_words = stopwords.words('english')\n",
    "lemma = WordNetLemmatizer()\n"
   ]
  },
  {
   "cell_type": "code",
   "execution_count": 28,
   "id": "16acf1d9",
   "metadata": {},
   "outputs": [],
   "source": [
    "import re\n",
    "def preprocess(text):\n",
    "    corpus=re.sub('[^a-zA-Z0-9 \\n\\.]', ' ', text)\n",
    "    tokens=word_tokenize(corpus)\n",
    "    tokens=[i for i in tokens if i not in stop_words]\n",
    "    tokens=[lemma.lemmatize(i).lower() for i in tokens]\n",
    "    return tokens"
   ]
  },
  {
   "cell_type": "code",
   "execution_count": 29,
   "id": "b521b089",
   "metadata": {},
   "outputs": [
    {
     "name": "stderr",
     "output_type": "stream",
     "text": [
      "[nltk_data] Downloading package omw-1.4 to\n",
      "[nltk_data]     C:\\Users\\user\\AppData\\Roaming\\nltk_data...\n",
      "[nltk_data]   Package omw-1.4 is already up-to-date!\n"
     ]
    },
    {
     "data": {
      "text/plain": [
       "True"
      ]
     },
     "execution_count": 29,
     "metadata": {},
     "output_type": "execute_result"
    }
   ],
   "source": [
    "nltk.download('omw-1.4')"
   ]
  },
  {
   "cell_type": "code",
   "execution_count": 30,
   "id": "0d056836",
   "metadata": {},
   "outputs": [
    {
     "name": "stderr",
     "output_type": "stream",
     "text": [
      "C:\\Users\\user\\AppData\\Local\\Temp\\ipykernel_1164\\1378374444.py:1: SettingWithCopyWarning: \n",
      "A value is trying to be set on a copy of a slice from a DataFrame.\n",
      "Try using .loc[row_indexer,col_indexer] = value instead\n",
      "\n",
      "See the caveats in the documentation: https://pandas.pydata.org/pandas-docs/stable/user_guide/indexing.html#returning-a-view-versus-a-copy\n",
      "  reviews['filtered']=reviews['review'].apply(preprocess)\n"
     ]
    }
   ],
   "source": [
    "reviews['filtered']=reviews['review'].apply(preprocess)"
   ]
  },
  {
   "cell_type": "code",
   "execution_count": 31,
   "id": "f21e6f4a",
   "metadata": {},
   "outputs": [],
   "source": [
    "def sentiment(corpus):\n",
    "    pos=len([i for i in corpus if i in positive_words])\n",
    "    neg=len([i for i in corpus if i in negative_words])\n",
    "    return pos/(neg+1)"
   ]
  },
  {
   "cell_type": "code",
   "execution_count": 32,
   "id": "90d563d2",
   "metadata": {},
   "outputs": [
    {
     "name": "stderr",
     "output_type": "stream",
     "text": [
      "C:\\Users\\user\\AppData\\Local\\Temp\\ipykernel_1164\\2304488572.py:1: SettingWithCopyWarning: \n",
      "A value is trying to be set on a copy of a slice from a DataFrame.\n",
      "Try using .loc[row_indexer,col_indexer] = value instead\n",
      "\n",
      "See the caveats in the documentation: https://pandas.pydata.org/pandas-docs/stable/user_guide/indexing.html#returning-a-view-versus-a-copy\n",
      "  reviews['sentiment_score']=reviews['filtered'].apply(sentiment)\n"
     ]
    }
   ],
   "source": [
    "reviews['sentiment_score']=reviews['filtered'].apply(sentiment)"
   ]
  },
  {
   "cell_type": "code",
   "execution_count": 33,
   "id": "f1368fdc",
   "metadata": {},
   "outputs": [
    {
     "data": {
      "text/html": [
       "<div>\n",
       "<style scoped>\n",
       "    .dataframe tbody tr th:only-of-type {\n",
       "        vertical-align: middle;\n",
       "    }\n",
       "\n",
       "    .dataframe tbody tr th {\n",
       "        vertical-align: top;\n",
       "    }\n",
       "\n",
       "    .dataframe thead th {\n",
       "        text-align: right;\n",
       "    }\n",
       "</style>\n",
       "<table border=\"1\" class=\"dataframe\">\n",
       "  <thead>\n",
       "    <tr style=\"text-align: right;\">\n",
       "      <th></th>\n",
       "      <th>review</th>\n",
       "      <th>filtered</th>\n",
       "      <th>sentiment_score</th>\n",
       "    </tr>\n",
       "  </thead>\n",
       "  <tbody>\n",
       "    <tr>\n",
       "      <th>2380</th>\n",
       "      <td>British Airways from London to Bahrain and ret...</td>\n",
       "      <td>[british, airways, london, bahrain, return, .,...</td>\n",
       "      <td>0.833333</td>\n",
       "    </tr>\n",
       "    <tr>\n",
       "      <th>2227</th>\n",
       "      <td>Recently flew to LA on British Airways and was...</td>\n",
       "      <td>[recently, flew, la, british, airways, thoroug...</td>\n",
       "      <td>0.333333</td>\n",
       "    </tr>\n",
       "    <tr>\n",
       "      <th>1929</th>\n",
       "      <td>British Airways Lounge in T3 was very busy as...</td>\n",
       "      <td>[british, airways, lounge, t3, busy, shared, a...</td>\n",
       "      <td>3.500000</td>\n",
       "    </tr>\n",
       "    <tr>\n",
       "      <th>84</th>\n",
       "      <td>As a regular BA customer on European flights...</td>\n",
       "      <td>[as, regular, ba, customer, european, flight, ...</td>\n",
       "      <td>0.600000</td>\n",
       "    </tr>\n",
       "    <tr>\n",
       "      <th>2386</th>\n",
       "      <td>Flew British Airways from Fuerteventura to Gat...</td>\n",
       "      <td>[flew, british, airways, fuerteventura, gatwic...</td>\n",
       "      <td>3.000000</td>\n",
       "    </tr>\n",
       "  </tbody>\n",
       "</table>\n",
       "</div>"
      ],
      "text/plain": [
       "                                                 review  \\\n",
       "2380  British Airways from London to Bahrain and ret...   \n",
       "2227  Recently flew to LA on British Airways and was...   \n",
       "1929   British Airways Lounge in T3 was very busy as...   \n",
       "84      As a regular BA customer on European flights...   \n",
       "2386  Flew British Airways from Fuerteventura to Gat...   \n",
       "\n",
       "                                               filtered  sentiment_score  \n",
       "2380  [british, airways, london, bahrain, return, .,...         0.833333  \n",
       "2227  [recently, flew, la, british, airways, thoroug...         0.333333  \n",
       "1929  [british, airways, lounge, t3, busy, shared, a...         3.500000  \n",
       "84    [as, regular, ba, customer, european, flight, ...         0.600000  \n",
       "2386  [flew, british, airways, fuerteventura, gatwic...         3.000000  "
      ]
     },
     "execution_count": 33,
     "metadata": {},
     "output_type": "execute_result"
    }
   ],
   "source": [
    "reviews.sample(5)"
   ]
  },
  {
   "cell_type": "code",
   "execution_count": 34,
   "id": "f550850d",
   "metadata": {},
   "outputs": [
    {
     "data": {
      "text/plain": [
       "\"  Malta to Gatwick. This is for British Airways Catering Service Managers. They have invested a lot of time and money into your meal scheme so as to earn extra income rather than give free meals. Initially I was very impressed when I spied the M&S food and drink menu which does merit appreciation. However, on flight BA 2645 from Malta to Gatwick my initial feelings of happiness were swiftly gutted. I am a strict vegetarian so I was happy to see the selection of vegetarian fayre but unfortunately by the time the trolley got to me (a long time I might add) there was no veggie sandwiches, no veggie focaccia, not even mixed nuts (for heavens sake!). Of course there was plenty for the non-vegetarians. Not only that but the Couscous Salad has chicken on it but no veggie alternative. I was very disappointed and BA need to do better. For me to fly with BA again I'd need some assurances that they will care just as much for the veggie people as for the meatheads. \""
      ]
     },
     "execution_count": 34,
     "metadata": {},
     "output_type": "execute_result"
    }
   ],
   "source": [
    "reviews.review.iloc[1294]"
   ]
  },
  {
   "cell_type": "code",
   "execution_count": 35,
   "id": "ccae4099",
   "metadata": {},
   "outputs": [
    {
     "data": {
      "text/plain": [
       "2.0"
      ]
     },
     "execution_count": 35,
     "metadata": {},
     "output_type": "execute_result"
    }
   ],
   "source": [
    "reviews.sentiment_score.iloc[1294]"
   ]
  },
  {
   "cell_type": "code",
   "execution_count": 36,
   "id": "153ab5c5",
   "metadata": {},
   "outputs": [],
   "source": [
    "def sentiment(score):\n",
    "    if score<=1.1 and score>=0.9:\n",
    "        return 'Neutral'\n",
    "    if score>1.1:\n",
    "        return 'Positive'\n",
    "    return 'Negative'"
   ]
  },
  {
   "cell_type": "code",
   "execution_count": 37,
   "id": "e129b5c7",
   "metadata": {},
   "outputs": [
    {
     "name": "stderr",
     "output_type": "stream",
     "text": [
      "C:\\Users\\user\\AppData\\Local\\Temp\\ipykernel_1164\\101543761.py:1: SettingWithCopyWarning: \n",
      "A value is trying to be set on a copy of a slice from a DataFrame.\n",
      "Try using .loc[row_indexer,col_indexer] = value instead\n",
      "\n",
      "See the caveats in the documentation: https://pandas.pydata.org/pandas-docs/stable/user_guide/indexing.html#returning-a-view-versus-a-copy\n",
      "  reviews['sentiment']=reviews['sentiment_score'].apply(sentiment)\n"
     ]
    }
   ],
   "source": [
    "reviews['sentiment']=reviews['sentiment_score'].apply(sentiment)"
   ]
  },
  {
   "cell_type": "code",
   "execution_count": 38,
   "id": "ec7d822c",
   "metadata": {},
   "outputs": [],
   "source": [
    "data['sentiment']=reviews['sentiment']"
   ]
  },
  {
   "cell_type": "code",
   "execution_count": 39,
   "id": "ee664590",
   "metadata": {},
   "outputs": [],
   "source": [
    "counts=reviews.sentiment.value_counts()"
   ]
  },
  {
   "cell_type": "code",
   "execution_count": 40,
   "id": "bbee41b4",
   "metadata": {},
   "outputs": [
    {
     "data": {
      "image/png": "[encoded data removed]",
      "text/plain": [
       "<Figure size 1000x1000 with 1 Axes>"
      ]
     },
     "metadata": {},
     "output_type": "display_data"
    }
   ],
   "source": [
    "fig=plt.figure()\n",
    "fig.set_figwidth(10)\n",
    "fig.set_figheight(10)\n",
    "plt.pie(counts.values,labels=counts.index,autopct='%1.1i%%',textprops={'fontsize':15})\n",
    "plt.title('Sentiment Analysis',fontsize=25,color='red')\n",
    "plt.savefig('Sentiment_Analysis.jpg')\n",
    "plt.show()"
   ]
  }
 ],
 "metadata": {
  "kernelspec": {
   "display_name": "Python 3 (ipykernel)",
   "language": "python",
   "name": "python3"
  },
  "language_info": {
   "codemirror_mode": {
    "name": "ipython",
    "version": 3
   },
   "file_extension": ".py",
   "mimetype": "text/x-python",
   "name": "python",
   "nbconvert_exporter": "python",
   "pygments_lexer": "ipython3",
   "version": "3.9.18"
  }
 },
 "nbformat": 4,
 "nbformat_minor": 5
}
